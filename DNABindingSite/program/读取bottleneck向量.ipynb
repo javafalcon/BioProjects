{
 "cells": [
  {
   "cell_type": "code",
   "execution_count": null,
   "metadata": {},
   "outputs": [],
   "source": [
    "import glob\n",
    "import os.path\n",
    "import random\n",
    "import numpy as np\n",
    "import tensorflow as tf\n",
    "from tensorflow.python.platform import gfile\n",
    "from sklearn.model_selection import KFold\n",
    "import scipy.io as sio"
   ]
  },
  {
   "cell_type": "code",
   "execution_count": null,
   "metadata": {},
   "outputs": [],
   "source": [
    "# 从bottleneck文件夹中读取图片的向量表示，并保存在saveMatFile文件中\n",
    "def get_bottleneck(bottleneck_path,saveMatFile):\n",
    "    X = []\n",
    "    Y = []\n",
    "\n",
    "    subdirs = [x[0] for x in os.walk(bottleneck_path)]\n",
    "    is_root = True\n",
    "    for subdir in subdirs:\n",
    "        if is_root:\n",
    "            is_root = False\n",
    "            continue\n",
    "\n",
    "        basename = os.path.basename(subdir)\n",
    "        files = [x[2] for x in os.walk(subdir)]\n",
    "        for file in files[0]:\n",
    "            print(file)\n",
    "            file_path = os.path.join(subdir, file)\n",
    "            print(file_path)\n",
    "            with open(file_path, 'r') as fr:\n",
    "                bottleneck_string = fr.read()\n",
    "                bottleneck_values = [float(x) for x in bottleneck_string.split(',')]\n",
    "            X.append(bottleneck_values)\n",
    "            if basename == 'positive':\n",
    "                Y.append([0,1])\n",
    "            else:\n",
    "                Y.append([1,0])\n",
    "\n",
    "    data = {}\n",
    "    data['data'] = X\n",
    "    data['target'] = Y\n",
    "\n",
    "    sio.savemat(saveMatFile, data)"
   ]
  },
  {
   "cell_type": "code",
   "execution_count": null,
   "metadata": {},
   "outputs": [],
   "source": []
  }
 ],
 "metadata": {
  "kernelspec": {
   "display_name": "Python 3",
   "language": "python",
   "name": "python3"
  },
  "language_info": {
   "codemirror_mode": {
    "name": "ipython",
    "version": 3
   },
   "file_extension": ".py",
   "mimetype": "text/x-python",
   "name": "python",
   "nbconvert_exporter": "python",
   "pygments_lexer": "ipython3",
   "version": "3.6.5"
  }
 },
 "nbformat": 4,
 "nbformat_minor": 2
}
