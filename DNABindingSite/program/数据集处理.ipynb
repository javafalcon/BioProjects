{
 "cells": [
  {
   "cell_type": "markdown",
   "metadata": {},
   "source": [
    "# 导入库"
   ]
  },
  {
   "cell_type": "code",
   "execution_count": 3,
   "metadata": {},
   "outputs": [],
   "source": [
    "# encoding: UTF-8\n",
    "import re\n",
    "from Bio.Blast.Applications import NcbipsiblastCommandline\n",
    "from Bio import SeqIO\n",
    "from Bio import SwissProt\n",
    "import os\n",
    "from numpy import argmax\n",
    "from numpy import *\n",
    "import re\n",
    "import scipy.io as sio\n",
    "import numpy as np\n"
   ]
  },
  {
   "cell_type": "markdown",
   "metadata": {},
   "source": [
    "# 1、将fasta格式文件整合为mat文件"
   ]
  },
  {
   "cell_type": "code",
   "execution_count": 18,
   "metadata": {},
   "outputs": [
    {
     "name": "stdout",
     "output_type": "stream",
     "text": [
      "PDNA-224_.mat is OK!\n"
     ]
    }
   ],
   "source": [
    "\n",
    "def fasta2mat(fasta_path,mat_name):\n",
    "    dataset1={}\n",
    "    path=fasta_path\n",
    "    for seq_record in SeqIO.parse(path, 'fasta'):\n",
    "        #print('seq_record:  ',seq_record)\n",
    "        #print(seq_record.seq)\n",
    "        #print('{} is calculating pssm'.format(seq_record.id))\n",
    "    #     #print('')\n",
    "    #     if os.path.exists(inputfile):\n",
    "    #         os.remove( inputfile)\n",
    "    #     ont_hotfile = \"\".join( ('One_Hot', '_', seq_record.id, '.txt'))\n",
    "    #     print(ont_hotfile)\n",
    "\n",
    "    #     SeqIO.write( seq_record,inputfile, 'fasta')\n",
    "\n",
    "        data = seq_record.seq\n",
    "\n",
    "        encoded = list()\n",
    "\n",
    "        encoded = np.array(data)\n",
    "        #print(onehot_encoded)\n",
    "\n",
    "        dataset1[seq_record.id]= encoded\n",
    "        \n",
    "        savefile=mat_name\n",
    "        sio.savemat(savefile,dataset1)\n",
    "\n",
    "\n",
    "    print('PDNA-224_.mat is OK!')\n",
    "\n",
    "fasta2mat('..\\\\PDNA-224.fasta','PDNA-224_.mat')\n"
   ]
  },
  {
   "cell_type": "code",
   "execution_count": null,
   "metadata": {},
   "outputs": [],
   "source": []
  },
  {
   "cell_type": "markdown",
   "metadata": {},
   "source": [
    "# 2、滑窗处理序列并保存"
   ]
  },
  {
   "cell_type": "code",
   "execution_count": 15,
   "metadata": {},
   "outputs": [
    {
     "name": "stdout",
     "output_type": "stream",
     "text": [
      "PDNA-224-seg-11.mat is OK!\n"
     ]
    }
   ],
   "source": [
    "\n",
    "\n",
    "# param ws: slip windown size\n",
    "def establishSegDataset(ws, savefile):\n",
    "    X = []\n",
    "    Y = []\n",
    "    k = 0\n",
    "    t = 0\n",
    "    \n",
    "    datafile = 'PDNA-224_.mat'\n",
    "    matfile = sio.loadmat(datafile)\n",
    "\n",
    "    # read fasta file\n",
    "    #fastafile = 'PDNA-224.fasta'\n",
    "    #seq_records = SeqIO.parse(fastafile)\n",
    "\n",
    "    # build slip window with size 11*2+1=23\n",
    "    \n",
    "    # read 'PDNA-224-binding-sites.txt'\n",
    "    with open('..\\\\data\\\\PDNA-224-binding-sites.txt', 'r') as pbsreader:\n",
    "        for line in pbsreader:\n",
    "            line = line.strip()\n",
    "            \n",
    "            \n",
    "           \n",
    "            if '>' in line:         \n",
    "                sid = line[1:]   #sid  蛋白质序列ID\n",
    "                #print(sid)\n",
    "                \n",
    "                p = matfile[sid]   #读取蛋白质序列ID所对应的序列\n",
    "                #print(p.shape)\n",
    "                seqlen = len(p)\n",
    "                #print(seqlen)\n",
    "                line_num=ws*2+1 #行数\n",
    "                \n",
    "                for j in range(seqlen):\n",
    "                    #create a array000000000000000000000000000000000000\n",
    "                    d = np.ndarray(shape=(line_num,),dtype='<U1')\n",
    "\n",
    "                    \n",
    "                    if j < ws:\n",
    "                        d[0:ws-j] = p[j-ws:]\n",
    "                        d[ws-j:2*ws+1] = p[0: ws+j+1]\n",
    "                    elif j > seqlen - ws -1:\n",
    "                        d[0:ws] = p[j-ws:j]\n",
    "                        d[ws:ws + seqlen -j] = p[j:]\n",
    "                        d[ws+seqlen-j:] = p[0:ws-seqlen+j+1]\n",
    "                    else:\n",
    "                        d[::]=p[j-ws:j+ws+1]\n",
    "                        \n",
    "#                     for dl in range(line_num):\n",
    "#                         for dr in range(20):\n",
    "#                             if d[dl,dr]<0:\n",
    "                                \n",
    "#                                 d[dl,dr]=d[dl,dr]+256\n",
    "                                \n",
    "#                     print('')\n",
    "#                     print(d)\n",
    "#                     print('')\n",
    "                    X.insert(k,d)\n",
    "                    Y.append([1,0])\n",
    "                    #Y.append([1])\n",
    "                    k += 1\n",
    "                    #print('k={},t={}'.format(k,t))\n",
    "            else:\n",
    "                sites = line.split() #结合位点位置\n",
    "                #print(sites)\n",
    "                for s in sites:\n",
    "                    idx = eval(s)\n",
    "                    #print(idx)\n",
    "                    #print('t={},idx={}'.format(t,idx))\n",
    "                    #print(t+idx-1)\n",
    "                    Y[t + idx-1] = [0,1]\n",
    "                    #print(t + idx-1 )\n",
    "                t=k        \n",
    "    #save benchmark data set\n",
    "    \n",
    "    dataset={}\n",
    "    dataset['data']=X\n",
    "    dataset['target'] = Y\n",
    "    sio.savemat(savefile,dataset)\n",
    "    \n",
    "establishSegDataset(11,'PDNA-224-seg-11.mat') \n",
    "print('PDNA-224-seg-11.mat is OK!')"
   ]
  },
  {
   "cell_type": "markdown",
   "metadata": {},
   "source": [
    "# 3、对滑窗后的序列进行5位二进制编码"
   ]
  },
  {
   "cell_type": "code",
   "execution_count": 9,
   "metadata": {},
   "outputs": [
    {
     "name": "stdout",
     "output_type": "stream",
     "text": [
      "PDNA-224-5-Bin-11.mat is OK!\n"
     ]
    }
   ],
   "source": [
    "def Seg2Bin(segfile, savefile):\n",
    "    \n",
    "    data = sio.loadmat(segfile)\n",
    "    X = data['data']\n",
    "    Y = data['target']\n",
    "    \n",
    "    #定义编码模型\n",
    "    dict = { 'P':'00001', 'Q': '00100', 'R': '00110', 'Y': '01100', 'W': '01110',\n",
    "            'T': '10000', 'M': '10011', 'N': '10101', 'V': '11010', 'E': '11101',\n",
    "            'L': '00011', 'H': '00101', 'S': '01001', 'F': '01011', 'C': '01111',\n",
    "            'I': '10010', 'K': '10100', 'A': '11001', 'D': '11100', 'G': '11110', 'X': '00000'} #将乱码X设为00000\n",
    "\n",
    "\n",
    "    XX=np.ndarray(shape=(57348,1),dtype='<U115')\n",
    "\n",
    "    for i in range(len(X)):\n",
    "        bin_=''\n",
    "        for j in range(23):\n",
    "            stra=str(dict[X[i,j]]) #将编码转化为字符串\n",
    "            bin_ = bin_ + stra\n",
    "\n",
    "\n",
    "        XX[i,0]=bin_\n",
    "\n",
    "    dataset1={}\n",
    "    dataset1['data']=XX\n",
    "    dataset1['target'] = Y\n",
    "    sio.savemat(savefile,dataset1)\n",
    "\n",
    "\n",
    "Seg2Bin('PDNA-224-seg-11.mat','PDNA-224-5-Bin-11.mat')\n",
    "\n",
    "print('PDNA-224-5-Bin-11.mat is OK!')"
   ]
  },
  {
   "cell_type": "markdown",
   "metadata": {},
   "source": [
    "# 测试：单条序列元胞自动机演化"
   ]
  },
  {
   "cell_type": "code",
   "execution_count": null,
   "metadata": {},
   "outputs": [],
   "source": [
    "# \n",
    "rule_84_nb = ['111','110','101','100','011','010','001','000']  \n",
    "rule_84_bit = ['0',  '1',  '0',  '1',  '0',  '1',  '0',  '0']  #84代表二进制 010100100\n",
    "#\n",
    "\n",
    "ab=bbbb[len(bbbb)-1]+bbbb+bbbb[0]  #演化规则：将最后一位补到头部，第一位补到尾部 则长度为115+2=117\n",
    "#bbbb[0:115]\n",
    "#ab[0:117]\n",
    "\n",
    "print('',bbbb)\n",
    "print(ab)\n",
    "new_ab=''\n",
    "for k in range(len(ab)-2):\n",
    "    nb = ab[k:k+3]  #滑窗得到邻居\n",
    "    index_= rule_84_nb.index(nb)\n",
    "    rule_bit = rule_84_bit[index_]\n",
    "    new_ab = new_ab + rule_bit\n",
    "print(nb)\n",
    "print(index_,rule_bit)\n",
    "print(new_ab)\n"
   ]
  },
  {
   "cell_type": "code",
   "execution_count": null,
   "metadata": {},
   "outputs": [],
   "source": []
  },
  {
   "cell_type": "markdown",
   "metadata": {},
   "source": [
    "# 4.1 元胞自动机演化模型"
   ]
  },
  {
   "cell_type": "code",
   "execution_count": 11,
   "metadata": {},
   "outputs": [],
   "source": [
    "rule_84_nb = ['111','110','101','100','011','010','001','000']  \n",
    "rule_84_bit = ['0',  '1',  '0',  '1',  '0',  '1',  '0',  '0']\n",
    "def Cellular_Automata(stra):\n",
    "\n",
    "    xs=stra\n",
    "    ab=xs[len(xs)-1]+xs+xs[0]  #演化规则：将最后一位补到头部，第一位补到尾部 则长度为115+2=117\n",
    "    \n",
    "    #xs[0:115]\n",
    "    #ab[0:117]\n",
    "    new_ab=''\n",
    "    \n",
    "    for k in range(len(ab)-2):\n",
    "        nb = ab[k:k+3]  #滑窗得到邻居\n",
    "        index_= rule_84_nb.index(nb)\n",
    "        rule_bit = rule_84_bit[index_]\n",
    "        new_ab = new_ab + rule_bit\n",
    "    \n",
    "    return new_ab\n",
    "\n"
   ]
  },
  {
   "cell_type": "markdown",
   "metadata": {},
   "source": [
    "# 4.2 对二进制序列进行元胞自动机处理"
   ]
  },
  {
   "cell_type": "code",
   "execution_count": 32,
   "metadata": {},
   "outputs": [
    {
     "name": "stdout",
     "output_type": "stream",
     "text": [
      "PDNA-224-Cellauto-11-200.mat is OK!\n"
     ]
    }
   ],
   "source": [
    "def Bin2Cellauto(binfile,epochs,savefile):\n",
    "    \n",
    "    data1 = sio.loadmat('PDNA-224-5-Bin-11.mat')\n",
    "    X = data1['data']\n",
    "    Y = data1['target']\n",
    "    \n",
    "    XSS=[]\n",
    "    epoch=epochs #定义迭代次数\n",
    "    t = 0\n",
    "    for k in range(len(X)):\n",
    "        bin_5=X[k,0]\n",
    "\n",
    "        XS=np.zeros(shape=(epoch,len(bin_5)), dtype=np.int16)\n",
    "\n",
    "        cellauto_bin=bin_5\n",
    "        \n",
    "        for j in range(epoch): \n",
    "\n",
    "            cellauto_bin = Cellular_Automata(cellauto_bin)\n",
    "            result = list(cellauto_bin)   \n",
    "            results = np.array(result, dtype=np.int16) #将list中的字符型转变为数值型\n",
    "            XS[j]=results\n",
    "\n",
    "            #print(cellauto_bin)\n",
    "\n",
    "        XSS.insert(t,XS)\n",
    "        t+=1\n",
    "\n",
    "    dataset={}\n",
    "    dataset['data']=XSS\n",
    "    dataset['target'] = Y\n",
    "    sio.savemat(savefile,dataset)\n",
    "    \n",
    "Bin2Cellauto('PDNA-224-5-Bin-11.mat',100,'PDNA-224-Cellauto-11-100.mat')\n",
    "\n",
    "print('PDNA-224-Cellauto-11-200.mat is OK!')"
   ]
  },
  {
   "cell_type": "code",
   "execution_count": 27,
   "metadata": {
    "scrolled": false
   },
   "outputs": [],
   "source": [
    "data2 = sio.loadmat('PDNA-224-Cellauto-11-200.mat')\n",
    "X2 = data2['data']\n",
    "Y2 = data2['target']\n"
   ]
  },
  {
   "cell_type": "code",
   "execution_count": 31,
   "metadata": {},
   "outputs": [
    {
     "data": {
      "text/plain": [
       "array([[0, 0, 0, 0, 1, 0, 1, 0, 0, 1, 0, 0, 0, 0, 0, 1, 0, 1, 0, 1, 1, 0,\n",
       "        0, 0, 0, 1, 0, 1, 1, 0, 0, 1, 1, 0, 1, 1, 0, 0, 0, 0, 1, 0, 1, 0,\n",
       "        0, 1, 1, 0, 0, 0, 0, 1, 1, 0, 0, 1, 0, 1, 1, 0, 1, 1, 0, 0, 0, 0,\n",
       "        0, 1, 0, 1, 1, 0, 0, 0, 0, 0, 1, 1, 0, 0, 0, 0, 1, 1, 0, 0, 1, 0,\n",
       "        1, 0, 0, 0, 0, 1, 0, 0, 1, 1, 0, 0, 0, 1, 1, 0, 0, 0, 1, 1, 0, 1,\n",
       "        0, 1, 1, 0, 1],\n",
       "       [1, 0, 0, 0, 1, 0, 1, 1, 0, 1, 1, 0, 0, 0, 0, 1, 0, 1, 0, 0, 1, 1,\n",
       "        0, 0, 0, 1, 0, 0, 1, 1, 0, 0, 1, 0, 0, 1, 1, 0, 0, 0, 1, 0, 1, 1,\n",
       "        0, 0, 1, 1, 0, 0, 0, 0, 1, 1, 0, 1, 0, 0, 1, 0, 0, 1, 1, 0, 0, 0,\n",
       "        0, 1, 0, 0, 1, 1, 0, 0, 0, 0, 0, 1, 1, 0, 0, 0, 0, 1, 1, 0, 1, 0,\n",
       "        1, 1, 0, 0, 0, 1, 1, 0, 0, 1, 1, 0, 0, 0, 1, 1, 0, 0, 0, 1, 0, 1,\n",
       "        0, 0, 1, 0, 1],\n",
       "       [1, 1, 0, 0, 1, 0, 0, 1, 0, 0, 1, 1, 0, 0, 0, 1, 0, 1, 1, 0, 0, 1,\n",
       "        1, 0, 0, 1, 1, 0, 0, 1, 1, 0, 1, 1, 0, 0, 1, 1, 0, 0, 1, 0, 0, 1,\n",
       "        1, 0, 0, 1, 1, 0, 0, 0, 0, 1, 0, 1, 1, 0, 1, 1, 0, 0, 1, 1, 0, 0,\n",
       "        0, 1, 1, 0, 0, 1, 1, 0, 0, 0, 0, 0, 1, 1, 0, 0, 0, 0, 1, 0, 1, 0,\n",
       "        0, 1, 1, 0, 0, 0, 1, 1, 0, 0, 1, 1, 0, 0, 0, 1, 1, 0, 0, 1, 0, 1,\n",
       "        1, 0, 1, 0, 0]], dtype=int16)"
      ]
     },
     "execution_count": 31,
     "metadata": {},
     "output_type": "execute_result"
    }
   ],
   "source": [
    "\n",
    "X2[57347,0:3]"
   ]
  },
  {
   "cell_type": "code",
   "execution_count": null,
   "metadata": {},
   "outputs": [],
   "source": []
  }
 ],
 "metadata": {
  "kernelspec": {
   "display_name": "Python 3",
   "language": "python",
   "name": "python3"
  },
  "language_info": {
   "codemirror_mode": {
    "name": "ipython",
    "version": 3
   },
   "file_extension": ".py",
   "mimetype": "text/x-python",
   "name": "python",
   "nbconvert_exporter": "python",
   "pygments_lexer": "ipython3",
   "version": "3.6.5"
  }
 },
 "nbformat": 4,
 "nbformat_minor": 2
}
