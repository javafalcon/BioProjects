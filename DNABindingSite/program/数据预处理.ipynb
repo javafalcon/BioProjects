{
 "cells": [
  {
   "cell_type": "code",
   "execution_count": 16,
   "metadata": {},
   "outputs": [],
   "source": [
    "# encoding: UTF-8\n",
    "import re\n",
    "import os\n",
    "import numpy as np\n",
    "import scipy.io as sio\n",
    "from Bio import SeqIO"
   ]
  },
  {
   "cell_type": "code",
   "execution_count": 2,
   "metadata": {},
   "outputs": [],
   "source": [
    "# 把一个氨基酸序列转换为一个ONE HOT二维数组。氨基酸序列长度为N，数组是N-by-21，21表示 'GAVLIPFYWSTCMNQDEKRHX'这21个氨基酸缩写字符\n",
    "def seq2OneHotArray(sequence):\n",
    "    N = len(sequence)\n",
    "    result = np.zeros(shape=(N,21),dtype=np.int16)\n",
    "    alphabet = 'GAVLIPFYWSTCMNQDEKRHX'\n",
    "    char_to_int = dict((c, i) for i, c in enumerate(alphabet))\n",
    "    digseq = [char_to_int[char] for char in sequence]\n",
    "    for i in range(N):\n",
    "        result[i][digseq[i]] = 1\n",
    "    return result        "
   ]
  },
  {
   "cell_type": "code",
   "execution_count": 4,
   "metadata": {},
   "outputs": [],
   "source": [
    "def establishBenchmarkOneHot(fastaFile, saveFile):\n",
    "    SeqOneHot = {}\n",
    "    for seq_record in SeqIO.parse(fastaFile, 'fasta'):\n",
    "        s = seq_record.seq\n",
    "        r = seq2OneHotArray(s)\n",
    "        SeqOneHot[seq_record.name] = r\n",
    "   \n",
    "    sio.savemat(saveFile,SeqOneHot)\n",
    "    "
   ]
  },
  {
   "cell_type": "code",
   "execution_count": 14,
   "metadata": {},
   "outputs": [],
   "source": [
    "# 滑窗。不足的补0\n",
    "def splitWindowsWithZero(ws, matFile, sitesFile, saveFile):\n",
    "    SeqOneHot = sio.loadmat(matFile)\n",
    "    X = []\n",
    "    Y = []\n",
    "    k = 0\n",
    "    t = 0\n",
    "    with open(sitesFile, 'r') as pbsreader:\n",
    "        for line in pbsreader:\n",
    "            line = line.strip()\n",
    "            if '>' in line:\n",
    "                sid = line[1:]\n",
    "                p = SeqOneHot[sid]\n",
    "                seqlen = p.shape[0]\n",
    "                col = np.size(p,1)\n",
    "                for j in range(seqlen):\n",
    "                    #create a array\n",
    "                    d = np.zeros(shape=(ws*2+1,col), dtype=np.int16)\n",
    "                    \n",
    "                    if j < ws:\n",
    "                        d[ws-j:2*ws+1] = p[0: ws+j+1]\n",
    "                    elif j > seqlen - ws -1:\n",
    "                        d[0:ws+seqlen-j] = p[j-ws:]\n",
    "                    else:\n",
    "                        d[::]=p[j-ws:j+ws+1]\n",
    "                \n",
    "                    X.insert(k,d)\n",
    "                    Y.append([1,0])\n",
    "                    k += 1\n",
    "            else:\n",
    "                sites = line.split()\n",
    "                for s in sites:\n",
    "                    idx = eval(s)\n",
    "                    Y[t + idx -1] = [0,1]\n",
    "                t=k  \n",
    "    #save benchmark data set\n",
    "    dataset={}\n",
    "    dataset['data']=X\n",
    "    dataset['target'] = Y\n",
    "    sio.savemat(saveFile,dataset)\n"
   ]
  },
  {
   "cell_type": "code",
   "execution_count": 17,
   "metadata": {},
   "outputs": [],
   "source": [
    "# 滑窗，不足的以头尾循环补\n",
    "def splitWindows(ws, matFile, sitesFile, saveFile):\n",
    "    SeqOneHot = sio.loadmat(matFile)\n",
    "    X = []\n",
    "    Y = []\n",
    "    k = 0\n",
    "    t = 0\n",
    "    with open(sitesFile, 'r') as pbsreader:\n",
    "        for line in pbsreader:\n",
    "            line = line.strip()\n",
    "            if '>' in line:\n",
    "                sid = line[1:]\n",
    "                p = SeqOneHot[sid]\n",
    "                seqlen = p.shape[0]\n",
    "                col = np.size(p,1)\n",
    "                for j in range(seqlen):\n",
    "                    #create a array\n",
    "                    d = np.zeros(shape=(ws*2+1,col), dtype=np.int16)\n",
    "                    '''\n",
    "                    if j < ws:\n",
    "                        d[ws-j:2*ws+1] = p[0: ws+j+1]\n",
    "                    elif j > seqlen - ws -1:\n",
    "                        d[0:ws+seqlen-j] = p[j-ws:]\n",
    "                    else:\n",
    "                        d[::]=p[j-ws:j+ws+1]\n",
    "                    '''\n",
    "                    if j < ws:\n",
    "                        d[0:ws-j] = p[j-ws:]\n",
    "                        d[ws-j:2*ws+1] = p[0: ws+j+1]\n",
    "                    elif j > seqlen - ws -1:\n",
    "                        d[0:ws] = p[j-ws:j]\n",
    "                        d[ws:ws + seqlen -j] = p[j:]\n",
    "                        d[ws+seqlen-j:] = p[0:ws-seqlen+j+1]\n",
    "                    else:\n",
    "                        d[::]=p[j-ws:j+ws+1]\n",
    "                        \n",
    "                    X.insert(k,d)\n",
    "                    Y.append([1,0])\n",
    "                    k += 1\n",
    "            else:\n",
    "                sites = line.split()\n",
    "                for s in sites:\n",
    "                    idx = eval(s)\n",
    "                    Y[t + idx -1] = [0,1]\n",
    "                t=k  \n",
    "    #save benchmark data set\n",
    "    dataset={}\n",
    "    dataset['data']=X\n",
    "    dataset['target'] = Y\n",
    "    sio.savemat(saveFile,dataset)\n"
   ]
  },
  {
   "cell_type": "code",
   "execution_count": 20,
   "metadata": {},
   "outputs": [],
   "source": [
    "#establishBenchmarkOneHot('data\\\\PDNA-224.fasta','data\\\\PDNA-224-seqs-OneHot.mat')\n",
    "splitWindows(17, 'data\\\\PDNA-224-seqs-OneHot.mat', 'data\\\\PDNA-224-binding-sites.txt', 'data\\\\PDNA-224-OneHot-13.mat')"
   ]
  },
  {
   "cell_type": "code",
   "execution_count": null,
   "metadata": {},
   "outputs": [],
   "source": []
  }
 ],
 "metadata": {
  "kernelspec": {
   "display_name": "Python 3",
   "language": "python",
   "name": "python3"
  },
  "language_info": {
   "codemirror_mode": {
    "name": "ipython",
    "version": 3
   },
   "file_extension": ".py",
   "mimetype": "text/x-python",
   "name": "python",
   "nbconvert_exporter": "python",
   "pygments_lexer": "ipython3",
   "version": "3.6.5"
  }
 },
 "nbformat": 4,
 "nbformat_minor": 2
}
