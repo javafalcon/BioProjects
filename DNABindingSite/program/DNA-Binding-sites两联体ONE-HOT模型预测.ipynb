{
 "cells": [
  {
   "cell_type": "code",
   "execution_count": null,
   "metadata": {},
   "outputs": [],
   "source": [
    "import re\n",
    "import os\n",
    "import numpy as np\n",
    "import scipy.io as sio\n",
    "from Bio import SeqIO\n",
    "import tensorflow as tf\n",
    "from time import time\n",
    "from sklearn.model_selection import KFold\n",
    "from sklearn.metrics import confusion_matrix\n",
    "from sklearn.utils import shuffle\n",
    "import matplotlib.pyplot as plt"
   ]
  },
  {
   "cell_type": "markdown",
   "metadata": {},
   "source": [
    "## 氨基酸序列的双联体ONE-HOT编码"
   ]
  },
  {
   "cell_type": "code",
   "execution_count": null,
   "metadata": {},
   "outputs": [],
   "source": [
    "alphabet = 'ACDEFGHIKLMNPQRSTVWYX'\n",
    "daa = []\n",
    "for x in alphabet:\n",
    "    for y in alphabet:\n",
    "        daa.append(x+y)"
   ]
  },
  {
   "cell_type": "code",
   "execution_count": null,
   "metadata": {},
   "outputs": [],
   "source": [
    "#把一个长度为L的氨基酸序列转换为一个矩阵型数组。按照20个氨基酸的两联体以ONE-HOT方式编码\n",
    "#矩阵的列数是441\n",
    "#矩阵的行数根据参数r，有：(L-1)+(L-2)+...+(L-r)=rL-(r+1)*r/2\n",
    "def seq2DaaOneHotArray(sequence, r):\n",
    "    L = len(sequence)\n",
    "    N = r*L - ((r+1)*r)/2\n",
    "    result = np.zeros(shape=(int(N), 441))\n",
    "    m = 0\n",
    "    for i in range(r):\n",
    "        for j in range(L-i-1):\n",
    "            aa = sequence[j]+sequence[j+i+1]\n",
    "            k = daa.index(aa)\n",
    "            result[m][k] = 1\n",
    "            m = m + 1  \n",
    "    return result"
   ]
  },
  {
   "cell_type": "markdown",
   "metadata": {},
   "source": [
    "## 根据序列的fasta文件构建数据集"
   ]
  },
  {
   "cell_type": "code",
   "execution_count": null,
   "metadata": {},
   "outputs": [],
   "source": [
    "#读入序列文件和位点文件\n",
    "def loadBindingsites(fastaFile, siteFile):\n",
    "    #读序列文件，每一个序列构成字典的一项，\n",
    "    #key：序列的id\n",
    "    #value: 氨基酸序列的字母字符串\n",
    "    data = {}\n",
    "    for seq_record in SeqIO.parse(fastaFile, 'fasta'):\n",
    "        data[seq_record.id] = seq_record.seq\n",
    "    \n",
    "    #读位点文件\n",
    "    bindingsites = {}\n",
    "    with open(siteFile, 'r') as pbsreader:\n",
    "        i = 0\n",
    "        for line in pbsreader:\n",
    "            i = i + 1\n",
    "            line = line.strip()\n",
    "            if '>' in line:\n",
    "                sid = line[1:]\n",
    "            else:\n",
    "                sites = line.split()\n",
    "                bs = []\n",
    "                for site in sites:\n",
    "                    bs.append( int(site))\n",
    "            if i%2 == 0:\n",
    "                bindingsites[sid] = bs\n",
    "      \n",
    "    return (data, bindingsites)"
   ]
  },
  {
   "cell_type": "code",
   "execution_count": null,
   "metadata": {},
   "outputs": [],
   "source": [
    "data,bindingsites = loadBindingsites('../data/PDNA-224.fasta','../data/PDNA-224-binding-sites.txt')"
   ]
  },
  {
   "cell_type": "code",
   "execution_count": null,
   "metadata": {},
   "outputs": [],
   "source": [
    "#构建序列样本集\n",
    "def createDatasets(data, bindingsites,ws,r):\n",
    "    positive=[]\n",
    "    negative=[]\n",
    "    for key in data:\n",
    "        sites = bindingsites[key]\n",
    "        p = data[key]\n",
    "        seqlen = len(p)\n",
    "        for j in range(seqlen):\n",
    "            if j < ws:\n",
    "                seq = str(p[j-ws:]) + str(p[0: ws+j+1])\n",
    "            elif j > seqlen - ws -1:\n",
    "                seq = str(p[j-ws:j]) + str(p[j:]) + str(p[0:ws-seqlen+j+1])\n",
    "            else:\n",
    "                seq = str(p[j-ws:j+ws+1])\n",
    "            m = seq2DaaOneHotArray(seq, r)\n",
    "            if j in sites:\n",
    "                positive.append(m)\n",
    "            else:\n",
    "                negative.append(m)\n",
    "    \n",
    "    positive = np.array(positive)\n",
    "    negative = np.array(negative)\n",
    "    return (positive, negative)"
   ]
  },
  {
   "cell_type": "code",
   "execution_count": null,
   "metadata": {},
   "outputs": [],
   "source": [
    "positive,negative = createDatasets(data, bindingsites,7,7)"
   ]
  },
  {
   "cell_type": "code",
   "execution_count": null,
   "metadata": {},
   "outputs": [],
   "source": []
  }
 ],
 "metadata": {
  "kernelspec": {
   "display_name": "Python 3",
   "language": "python",
   "name": "python3"
  },
  "language_info": {
   "codemirror_mode": {
    "name": "ipython",
    "version": 3
   },
   "file_extension": ".py",
   "mimetype": "text/x-python",
   "name": "python",
   "nbconvert_exporter": "python",
   "pygments_lexer": "ipython3",
   "version": "3.6.5"
  },
  "toc": {
   "base_numbering": 1,
   "nav_menu": {},
   "number_sections": true,
   "sideBar": true,
   "skip_h1_title": false,
   "title_cell": "Table of Contents",
   "title_sidebar": "Contents",
   "toc_cell": false,
   "toc_position": {},
   "toc_section_display": true,
   "toc_window_display": false
  }
 },
 "nbformat": 4,
 "nbformat_minor": 2
}
