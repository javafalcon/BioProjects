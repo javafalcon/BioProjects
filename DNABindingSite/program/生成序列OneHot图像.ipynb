{
 "cells": [
  {
   "cell_type": "markdown",
   "metadata": {},
   "source": [
    "# 生成20个氨基酸OneHot图像"
   ]
  },
  {
   "cell_type": "code",
   "execution_count": null,
   "metadata": {},
   "outputs": [],
   "source": [
    "import matplotlib.pyplot as plt\n",
    "import scipy.io as sio\n",
    "from PIL import Image\n",
    "data=sio.loadmat('data\\\\PDNA-224-ONEHOT-11-P.mat')\n",
    "d = data['data']\n",
    "N = d.shape[0]\n",
    "for i in range(N):\n",
    "    img = Image.fromarray(d[i]*255,'L')\n",
    "    img.save('data\\\\img\\\\positive\\\\' + str(i) + '.jpg','jpeg')"
   ]
  },
  {
   "cell_type": "code",
   "execution_count": null,
   "metadata": {},
   "outputs": [],
   "source": [
    "import matplotlib.pyplot as plt\n",
    "import scipy.io as sio\n",
    "from PIL import Image\n",
    "data=sio.loadmat('data\\\\PDNA-224-ONEHOT-11-N.mat')\n",
    "d = data['data']\n",
    "N = d.shape[0]\n",
    "for i in range(N):\n",
    "    img = Image.fromarray(d[i]*255,'L')\n",
    "    img.save('data\\\\img\\\\negro\\\\' + str(i) + '.jpg','jpeg')"
   ]
  },
  {
   "cell_type": "code",
   "execution_count": 3,
   "metadata": {},
   "outputs": [],
   "source": [
    "import matplotlib.pyplot as plt\n",
    "import scipy.io as sio\n",
    "from PIL import Image\n",
    "data = sio.loadmat('data\\\\PDNA-224-OneHot-15.mat')\n",
    "d = data['data']\n",
    "Y = data['target']\n",
    "N = d.shape[0]\n",
    "n = 0\n",
    "m = 0\n",
    "for i in range(N):\n",
    "    img = Image.fromarray(d[i]*255,'L')\n",
    "    if Y[i][0]==1:\n",
    "        img.save('img-15\\\\negative\\\\' + str(n) + '.jpg', 'jpeg')\n",
    "        n = n + 1\n",
    "    else:\n",
    "        img.save('img-15\\\\positive\\\\' + str(m) + '.jpg', 'jpeg')\n",
    "        m = m + 1"
   ]
  },
  {
   "cell_type": "markdown",
   "metadata": {},
   "source": [
    "# 生成两联体OneHot图像"
   ]
  },
  {
   "cell_type": "code",
   "execution_count": 10,
   "metadata": {},
   "outputs": [],
   "source": [
    "import os\n",
    "import numpy as np\n",
    "from Bio import SeqIO\n",
    "import matplotlib.pyplot as plt"
   ]
  },
  {
   "cell_type": "code",
   "execution_count": 1,
   "metadata": {},
   "outputs": [],
   "source": [
    "alphabet = 'ACDEFGHIKLMNPQRSTVWYX'\n",
    "daa = [(x+y) for x in alphabet for y in alphabet]\n",
    "\n",
    "#把一个长度为L的氨基酸序列转换为一个矩阵型数组。按照20个氨基酸的两联体以ONE-HOT方式编码\n",
    "#矩阵的列数是441\n",
    "#矩阵的行数根据参数r，有：(L-1)+(L-2)+...+(L-r)=rL-(r+1)*r/2\n",
    "def seq2DaaOneHotArray(sequence, r):\n",
    "    L = len(sequence)\n",
    "    N = r*L - ((r+1)*r)/2\n",
    "    result = np.zeros(shape=(int(N), 441))\n",
    "    m = 0\n",
    "    for i in range(r):\n",
    "        for j in range(L-i-1):\n",
    "            aa = sequence[j]+sequence[j+i+1]\n",
    "            k = daa.index(aa)\n",
    "            result[m][k] = 1\n",
    "            m = m + 1  \n",
    "    return result"
   ]
  },
  {
   "cell_type": "code",
   "execution_count": 4,
   "metadata": {},
   "outputs": [],
   "source": [
    "#读入序列文件和位点文件\n",
    "from Bio import SeqIO\n",
    "def loadBindingsites(fastaFile, siteFile):\n",
    "    #读序列文件，每一个序列构成字典的一项，\n",
    "    #key：序列的id\n",
    "    #value: 氨基酸序列的字母字符串\n",
    "    data = {}\n",
    "    for seq_record in SeqIO.parse(fastaFile, 'fasta'):\n",
    "        data[seq_record.id] = seq_record.seq\n",
    "    \n",
    "    #读位点文件\n",
    "    bindingsites = {}\n",
    "    with open(siteFile, 'r') as pbsreader:\n",
    "        i = 0\n",
    "        for line in pbsreader:\n",
    "            i = i + 1\n",
    "            line = line.strip()\n",
    "            if '>' in line:\n",
    "                sid = line[1:]\n",
    "            else:\n",
    "                sites = line.split()\n",
    "                bs = []\n",
    "                for site in sites:\n",
    "                    bs.append( int(site))\n",
    "            if i%2 == 0:\n",
    "                bindingsites[sid] = bs\n",
    "      \n",
    "    return (data, bindingsites)"
   ]
  },
  {
   "cell_type": "code",
   "execution_count": 5,
   "metadata": {},
   "outputs": [],
   "source": [
    "data,bindingsites = loadBindingsites('../data/PDNA-224.fasta','../data/PDNA-224-binding-sites.txt')"
   ]
  },
  {
   "cell_type": "code",
   "execution_count": 21,
   "metadata": {},
   "outputs": [],
   "source": [
    "# 构建序列样本集图像\n",
    "import matplotlib.pyplot as plt\n",
    "from PIL import Image\n",
    "\n",
    "def splitDatasets(data, bindingsites,ws,r):\n",
    "    i1, i2 = 0,0\n",
    "    for key in data:\n",
    "        sites = bindingsites[key]\n",
    "        p = data[key]\n",
    "        seqlen = len(p)\n",
    "        for j in range(seqlen):\n",
    "            if j < ws:\n",
    "                seq = str(p[j-ws:]) + str(p[0: ws+j+1])\n",
    "            elif j > seqlen - ws -1:\n",
    "                seq = str(p[j-ws:j]) + str(p[j:]) + str(p[0:ws-seqlen+j+1])\n",
    "            else:\n",
    "                seq = str(p[j-ws:j+ws+1])\n",
    "            m = seq2DaaOneHotArray(seq, r)\n",
    "            img = Image.fromarray(m*255,'L')\n",
    "            if j in sites:\n",
    "                img.save('../data/img-15-15/positive/' + str(i1) + '.jpg','jpeg')\n",
    "                i1 += 1\n",
    "            else:\n",
    "                #negative.append(m)\n",
    "                img.save('../data/img-15-15/negative/' + str(i2) + '.jpg','jpeg')\n",
    "                i2 += 1"
   ]
  },
  {
   "cell_type": "code",
   "execution_count": 23,
   "metadata": {},
   "outputs": [],
   "source": [
    "splitDatasets(data, bindingsites,15,15)"
   ]
  },
  {
   "cell_type": "code",
   "execution_count": null,
   "metadata": {},
   "outputs": [],
   "source": []
  }
 ],
 "metadata": {
  "kernelspec": {
   "display_name": "Python 3",
   "language": "python",
   "name": "python3"
  },
  "language_info": {
   "codemirror_mode": {
    "name": "ipython",
    "version": 3
   },
   "file_extension": ".py",
   "mimetype": "text/x-python",
   "name": "python",
   "nbconvert_exporter": "python",
   "pygments_lexer": "ipython3",
   "version": "3.6.5"
  },
  "toc": {
   "base_numbering": 1,
   "nav_menu": {},
   "number_sections": true,
   "sideBar": true,
   "skip_h1_title": false,
   "title_cell": "Table of Contents",
   "title_sidebar": "Contents",
   "toc_cell": false,
   "toc_position": {},
   "toc_section_display": true,
   "toc_window_display": false
  }
 },
 "nbformat": 4,
 "nbformat_minor": 2
}
