{
 "cells": [
  {
   "cell_type": "code",
   "execution_count": 27,
   "metadata": {
    "collapsed": true
   },
   "outputs": [],
   "source": [
    "import json\n",
    "from keras.preprocessing.text import Tokenizer, one_hot\n",
    "import numpy as np"
   ]
  },
  {
   "cell_type": "code",
   "execution_count": 2,
   "metadata": {
    "collapsed": true
   },
   "outputs": [],
   "source": [
    "with open('subcellLocData.json','r') as fr:\n",
    "     prot=json.load(fr)"
   ]
  },
  {
   "cell_type": "code",
   "execution_count": 3,
   "metadata": {
    "collapsed": true
   },
   "outputs": [],
   "source": [
    "list_seq=prot['seqs']"
   ]
  },
  {
   "cell_type": "code",
   "execution_count": 14,
   "metadata": {},
   "outputs": [
    {
     "data": {
      "text/plain": [
       "<keras_preprocessing.text.Tokenizer at 0x14a8fe7aef0>"
      ]
     },
     "execution_count": 14,
     "metadata": {},
     "output_type": "execute_result"
    }
   ],
   "source": [
    "token = Tokenizer(char_level=True)\n",
    "token\n"
   ]
  },
  {
   "cell_type": "code",
   "execution_count": 15,
   "metadata": {},
   "outputs": [],
   "source": [
    "token.fit_on_texts(list_seq)"
   ]
  },
  {
   "cell_type": "code",
   "execution_count": 26,
   "metadata": {
    "collapsed": true
   },
   "outputs": [],
   "source": [
    "x=token.texts_to_sequences(list_seq)"
   ]
  },
  {
   "cell_type": "code",
   "execution_count": 24,
   "metadata": {},
   "outputs": [],
   "source": [
    "x=pad_sequences(x,maxlen=5000,padding='post',truncat='post')"
   ]
  },
  {
   "cell_type": "code",
   "execution_count": 28,
   "metadata": {},
   "outputs": [
    {
     "data": {
      "text/plain": [
       "[18,\n",
       " 20,\n",
       " 19,\n",
       " 4,\n",
       " 2,\n",
       " 6,\n",
       " 8,\n",
       " 4,\n",
       " 8,\n",
       " 8,\n",
       " 4,\n",
       " 15,\n",
       " 19,\n",
       " 4,\n",
       " 5,\n",
       " 1,\n",
       " 1,\n",
       " 8,\n",
       " 2,\n",
       " 17,\n",
       " 6,\n",
       " 8,\n",
       " 1,\n",
       " 10,\n",
       " 11,\n",
       " 5,\n",
       " 11,\n",
       " 3,\n",
       " 4,\n",
       " 5,\n",
       " 5,\n",
       " 9,\n",
       " 6,\n",
       " 5,\n",
       " 4,\n",
       " 12,\n",
       " 19,\n",
       " 3,\n",
       " 8,\n",
       " 19,\n",
       " 7,\n",
       " 3,\n",
       " 15,\n",
       " 1,\n",
       " 14,\n",
       " 9,\n",
       " 15,\n",
       " 16,\n",
       " 7,\n",
       " 2,\n",
       " 1,\n",
       " 13,\n",
       " 12,\n",
       " 9,\n",
       " 5,\n",
       " 8,\n",
       " 14,\n",
       " 15,\n",
       " 2,\n",
       " 1,\n",
       " 12,\n",
       " 10,\n",
       " 13,\n",
       " 3,\n",
       " 7,\n",
       " 3,\n",
       " 1,\n",
       " 13,\n",
       " 2,\n",
       " 15,\n",
       " 19,\n",
       " 1,\n",
       " 12,\n",
       " 10,\n",
       " 7,\n",
       " 5,\n",
       " 7,\n",
       " 3,\n",
       " 14,\n",
       " 9,\n",
       " 1,\n",
       " 19,\n",
       " 16,\n",
       " 16,\n",
       " 1,\n",
       " 5,\n",
       " 4,\n",
       " 10,\n",
       " 7,\n",
       " 12,\n",
       " 4,\n",
       " 4,\n",
       " 10,\n",
       " 7,\n",
       " 13,\n",
       " 1,\n",
       " 2,\n",
       " 3,\n",
       " 8,\n",
       " 10,\n",
       " 9,\n",
       " 6,\n",
       " 18,\n",
       " 2,\n",
       " 8,\n",
       " 17,\n",
       " 18,\n",
       " 6,\n",
       " 4,\n",
       " 18,\n",
       " 7,\n",
       " 13,\n",
       " 19,\n",
       " 3,\n",
       " 7,\n",
       " 1,\n",
       " 7,\n",
       " 7,\n",
       " 1,\n",
       " 12,\n",
       " 2,\n",
       " 11,\n",
       " 13,\n",
       " 19,\n",
       " 3,\n",
       " 1,\n",
       " 7,\n",
       " 16,\n",
       " 3,\n",
       " 7,\n",
       " 10,\n",
       " 1,\n",
       " 12,\n",
       " 1,\n",
       " 4,\n",
       " 2,\n",
       " 8,\n",
       " 12,\n",
       " 1,\n",
       " 9,\n",
       " 7,\n",
       " 18,\n",
       " 9,\n",
       " 8,\n",
       " 4,\n",
       " 3,\n",
       " 1,\n",
       " 7,\n",
       " 11,\n",
       " 13,\n",
       " 1,\n",
       " 17,\n",
       " 2,\n",
       " 20,\n",
       " 5,\n",
       " 3,\n",
       " 3,\n",
       " 19,\n",
       " 9,\n",
       " 4,\n",
       " 19,\n",
       " 4,\n",
       " 3,\n",
       " 7,\n",
       " 10,\n",
       " 12,\n",
       " 16,\n",
       " 8,\n",
       " 14,\n",
       " 1,\n",
       " 13,\n",
       " 11,\n",
       " 3,\n",
       " 1,\n",
       " 4,\n",
       " 6,\n",
       " 7,\n",
       " 16,\n",
       " 4,\n",
       " 4,\n",
       " 10,\n",
       " 17,\n",
       " 6,\n",
       " 7,\n",
       " 10,\n",
       " 3,\n",
       " 1]"
      ]
     },
     "execution_count": 28,
     "metadata": {},
     "output_type": "execute_result"
    }
   ],
   "source": [
    "np.max(x)"
   ]
  },
  {
   "cell_type": "code",
   "execution_count": 5,
   "metadata": {},
   "outputs": [
    {
     "name": "stdout",
     "output_type": "stream",
     "text": [
      "[[4, 28], [9, 45], [24, 2], [41, 45], [2], [22], [47, 2], [13, 9], [47, 45], [9, 48, 28, 46]]\n"
     ]
    }
   ],
   "source": [
    "from keras.preprocessing.sequence import pad_sequences\n",
    "from keras.models import Sequential\n",
    "from keras.layers import Dense\n",
    "from keras.layers import Flatten\n",
    "from keras.layers.embeddings import Embedding\n",
    "\n",
    "# define documents\n",
    "docs = ['Well done!',\n",
    "        'Good work',\n",
    "        'Great effort',\n",
    "        'nice work',\n",
    "        'Excellent!',\n",
    "        'Weak',\n",
    "        'Poor effort!',\n",
    "        'not good',\n",
    "        'poor work',\n",
    "        'Could have done better.']\n",
    "\n",
    "# define class labels\n",
    "labels = [1,1,1,1,1,0,0,0,0,0]\n",
    "\n",
    "# integer encode the documents\n",
    "vocab_size = 50\n",
    "encoded_docs = [one_hot(d, vocab_size) for d in docs]\n",
    "print(encoded_docs)"
   ]
  },
  {
   "cell_type": "code",
   "execution_count": null,
   "metadata": {
    "collapsed": true
   },
   "outputs": [],
   "source": []
  }
 ],
 "metadata": {
  "kernelspec": {
   "display_name": "Python [conda env:tensorflow]",
   "language": "python",
   "name": "conda-env-tensorflow-py"
  },
  "language_info": {
   "codemirror_mode": {
    "name": "ipython",
    "version": 3
   },
   "file_extension": ".py",
   "mimetype": "text/x-python",
   "name": "python",
   "nbconvert_exporter": "python",
   "pygments_lexer": "ipython3",
   "version": "3.6.2"
  },
  "toc": {
   "base_numbering": 1,
   "nav_menu": {},
   "number_sections": true,
   "sideBar": true,
   "skip_h1_title": false,
   "title_cell": "Table of Contents",
   "title_sidebar": "Contents",
   "toc_cell": false,
   "toc_position": {},
   "toc_section_display": true,
   "toc_window_display": false
  }
 },
 "nbformat": 4,
 "nbformat_minor": 2
}
